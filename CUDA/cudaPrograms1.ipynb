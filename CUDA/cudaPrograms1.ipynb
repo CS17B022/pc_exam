{
  "nbformat": 4,
  "nbformat_minor": 0,
  "metadata": {
    "colab": {
      "name": "cudaPrograms1.ipynb",
      "provenance": [],
      "collapsed_sections": []
    },
    "kernelspec": {
      "display_name": "Python 3",
      "name": "python3"
    },
    "accelerator": "GPU"
  },
  "cells": [
    {
      "cell_type": "markdown",
      "metadata": {
        "id": "c4yjK9r0ftnJ"
      },
      "source": [
        "**Commands**"
      ]
    },
    {
      "cell_type": "code",
      "metadata": {
        "colab": {
          "base_uri": "https://localhost:8080/"
        },
        "id": "zv9B3-PBxzkw",
        "outputId": "83ee79f9-c826-4650-a8b6-104a93666150"
      },
      "source": [
        "!pip install git+git://github.com/andreinechaev/nvcc4jupyter.git\n",
        "%load_ext nvcc_plugin\n"
      ],
      "execution_count": null,
      "outputs": [
        {
          "output_type": "stream",
          "text": [
            "Collecting git+git://github.com/andreinechaev/nvcc4jupyter.git\n",
            "  Cloning git://github.com/andreinechaev/nvcc4jupyter.git to /tmp/pip-req-build-4dl7vel5\n",
            "  Running command git clone -q git://github.com/andreinechaev/nvcc4jupyter.git /tmp/pip-req-build-4dl7vel5\n",
            "Building wheels for collected packages: NVCCPlugin\n",
            "  Building wheel for NVCCPlugin (setup.py) ... \u001b[?25l\u001b[?25hdone\n",
            "  Created wheel for NVCCPlugin: filename=NVCCPlugin-0.0.2-cp36-none-any.whl size=4307 sha256=eaaf3d998edbbf61a5da2aebebe13db61b6d978e0897c4a78a926f4709a616ae\n",
            "  Stored in directory: /tmp/pip-ephem-wheel-cache-qb_nlcu1/wheels/10/c2/05/ca241da37bff77d60d31a9174f988109c61ba989e4d4650516\n",
            "Successfully built NVCCPlugin\n",
            "Installing collected packages: NVCCPlugin\n",
            "Successfully installed NVCCPlugin-0.0.2\n",
            "created output directory at /content/src\n",
            "Out bin /content/result.out\n"
          ],
          "name": "stdout"
        }
      ]
    },
    {
      "cell_type": "code",
      "metadata": {
        "colab": {
          "base_uri": "https://localhost:8080/"
        },
        "id": "nc1PeIPH1SEQ",
        "outputId": "7302f339-a277-4ddc-c961-9c4073a5c942"
      },
      "source": [
        "!nvcc --version"
      ],
      "execution_count": null,
      "outputs": [
        {
          "output_type": "stream",
          "text": [
            "nvcc: NVIDIA (R) Cuda compiler driver\n",
            "Copyright (c) 2005-2019 NVIDIA Corporation\n",
            "Built on Sun_Jul_28_19:07:16_PDT_2019\n",
            "Cuda compilation tools, release 10.1, V10.1.243\n"
          ],
          "name": "stdout"
        }
      ]
    },
    {
      "cell_type": "markdown",
      "metadata": {
        "id": "8NUxaas8gC3T"
      },
      "source": [
        "**Hello World Program**"
      ]
    },
    {
      "cell_type": "code",
      "metadata": {
        "colab": {
          "base_uri": "https://localhost:8080/"
        },
        "id": "Mxnq73QH1Lyn",
        "outputId": "7db63d0d-bd1a-4e41-d385-7a71bac0848b"
      },
      "source": [
        "%%cu\n",
        "#include<stdio.h>\n",
        "#include<stdlib.h>\n",
        "\n",
        "__global__ void print1(void) \n",
        "{\n",
        "    printf(\"Hello World - thread index = %d, block index = %d \\n\", threadIdx.x,blockIdx.x);\n",
        "}\n",
        "\n",
        "int main(void) \n",
        "{\n",
        "    printf(\"Hello World from host!\\n\");\n",
        "    print1<<<1,2>>>();\n",
        "    cudaDeviceSynchronize();\n",
        "    return 0;\n",
        "}\n"
      ],
      "execution_count": null,
      "outputs": [
        {
          "output_type": "stream",
          "text": [
            "Hello World from host!\n",
            "Hello World - thread index = 0, block index = 0 \n",
            "Hello World - thread index = 1, block index = 0 \n",
            "\n"
          ],
          "name": "stdout"
        }
      ]
    },
    {
      "cell_type": "markdown",
      "metadata": {
        "id": "8CBDLPo-gSZI"
      },
      "source": [
        ""
      ]
    },
    {
      "cell_type": "markdown",
      "metadata": {
        "id": "mE9A97BJgJuU"
      },
      "source": [
        "**Hello World Program - With multiple blocks**"
      ]
    },
    {
      "cell_type": "code",
      "metadata": {
        "colab": {
          "base_uri": "https://localhost:8080/"
        },
        "id": "4qMD2vnc2eok",
        "outputId": "d0ac687a-02f3-47e4-8ef7-472ea02b8224"
      },
      "source": [
        "%%cu\n",
        "#include<stdio.h>\n",
        "#include<stdlib.h>\n",
        "\n",
        "__global__ void print1(void) \n",
        "{\n",
        "    printf(\"Hello World - thread index = %d, block index = %d \\n\", threadIdx.x,blockIdx.x);\n",
        "}\n",
        "\n",
        "int main(void) \n",
        "{\n",
        "    printf(\"Hello World from host!\\n\");\n",
        "    print1<<<2,2>>>();\n",
        "    cudaDeviceSynchronize();\n",
        "    //printf\n",
        "    return 0;\n",
        "}"
      ],
      "execution_count": null,
      "outputs": [
        {
          "output_type": "stream",
          "text": [
            "Hello World from host!\n",
            "Hello World - thread index = 0, block index = 0 \n",
            "Hello World - thread index = 1, block index = 0 \n",
            "Hello World - thread index = 0, block index = 1 \n",
            "Hello World - thread index = 1, block index = 1 \n",
            "\n"
          ],
          "name": "stdout"
        }
      ]
    },
    {
      "cell_type": "markdown",
      "metadata": {
        "id": "PQ0a3XkXgUh_"
      },
      "source": [
        "**Effect of cudaDeviceSynchronize**"
      ]
    },
    {
      "cell_type": "code",
      "metadata": {
        "colab": {
          "base_uri": "https://localhost:8080/"
        },
        "id": "wgEMpau_3LLH",
        "outputId": "e39a80db-425e-4c11-80af-7b307c0ff85c"
      },
      "source": [
        "%%cu\n",
        "#include<stdio.h>\n",
        "#include<stdlib.h>\n",
        "\n",
        "__global__ void print1(void) \n",
        "{\n",
        "    printf(\"Hello World - thread index = %d, block index = %d \\n\", threadIdx.x,blockIdx.x);\n",
        "}\n",
        "\n",
        "int main(void) \n",
        "{\n",
        "    printf(\"Hello World from host!\\n\");\n",
        "    print1<<<2,2>>>();\n",
        "    printf(\"hi\");\n",
        "    cudaDeviceSynchronize();\n",
        "    return 0;\n",
        "}"
      ],
      "execution_count": null,
      "outputs": [
        {
          "output_type": "stream",
          "text": [
            "Hello World from host!\n",
            "hiHello World - thread index = 0, block index = 0 \n",
            "Hello World - thread index = 1, block index = 0 \n",
            "Hello World - thread index = 0, block index = 1 \n",
            "Hello World - thread index = 1, block index = 1 \n",
            "\n"
          ],
          "name": "stdout"
        }
      ]
    },
    {
      "cell_type": "markdown",
      "metadata": {
        "id": "GzhmHLvGgem8"
      },
      "source": [
        "**Adding two numbers**"
      ]
    },
    {
      "cell_type": "code",
      "metadata": {
        "colab": {
          "base_uri": "https://localhost:8080/"
        },
        "id": "SAizoAxs3dxi",
        "outputId": "3e9867cc-e413-4d3e-a4e1-babf9abd57bb"
      },
      "source": [
        "%%cu\n",
        "#include <stdio.h>\n",
        "#include <stdlib.h>\n",
        "__global__ void add(int *a, int *b, int *c) \n",
        "{\n",
        "  *c = *a + *b;\n",
        "}\n",
        "\n",
        "int main() \n",
        "{\n",
        "\n",
        "  int a, b, c;\n",
        "  int *d_a, *d_b, *d_c;\n",
        "  int size = sizeof(int);\n",
        "\n",
        "  cudaMalloc((void **)&d_a, size);\n",
        "  cudaMalloc((void **)&d_b, size);\n",
        "  cudaMalloc((void **)&d_c, size);\n",
        "\n",
        "  c = 0;\n",
        "  a = 3;\n",
        "  b = 5;\n",
        "\n",
        "  cudaMemcpy(d_a, &a, size, cudaMemcpyHostToDevice);\n",
        "  cudaMemcpy(d_b, &b, size, cudaMemcpyHostToDevice);\n",
        "  \n",
        "  add<<<1,1>>>(d_a, d_b, d_c);\n",
        "  cudaError err = cudaMemcpy(&c, d_c, size, cudaMemcpyDeviceToHost);\n",
        "  if(err!=cudaSuccess) \n",
        "  {\n",
        "      printf(\"CUDA error copying to Host: %s\\n\", cudaGetErrorString(err));\n",
        "  }\n",
        "  printf(\"result is %d\\n\",c);\n",
        "\n",
        "  cudaFree(d_a);\n",
        "  cudaFree(d_b);\n",
        "  cudaFree(d_c);\n",
        "\n",
        "  return 0;\n",
        "}"
      ],
      "execution_count": null,
      "outputs": [
        {
          "output_type": "stream",
          "text": [
            "result is 8\n",
            "\n"
          ],
          "name": "stdout"
        }
      ]
    },
    {
      "cell_type": "markdown",
      "metadata": {
        "id": "yrsZoRR-g19K"
      },
      "source": [
        "**Adding two vectors**"
      ]
    },
    {
      "cell_type": "code",
      "metadata": {
        "colab": {
          "base_uri": "https://localhost:8080/"
        },
        "id": "mtae65G16_I_",
        "outputId": "ed02f44b-cd6b-478d-b8d7-a6cb1fd61b46"
      },
      "source": [
        "%%cu\n",
        "#include <stdio.h>\n",
        "\n",
        "#define HANDLE_ERROR( err ) ( HandleError( err, __FILE__, __LINE__ ) )\n",
        "\n",
        "static void HandleError( cudaError_t err, const char *file, int line )\n",
        "{\n",
        "    if (err != cudaSuccess)\n",
        "      {\n",
        "        printf( \"%s in %s at line %d\\n\", cudaGetErrorString( err ),\n",
        "                file, line );\n",
        "        exit( EXIT_FAILURE );\n",
        "    }\n",
        "}\n",
        "\n",
        "\n",
        "\n",
        "const short N = 10 ;\n",
        "\n",
        "__global__ void Vector_Addition ( const int *dev_a , const int *dev_b , int *dev_c)\n",
        "{\n",
        "      //Get the id of thread within a block\n",
        "      unsigned short tid = threadIdx.x ;\n",
        "     \n",
        "     // check the boundry condition for the threads\n",
        "      if ( tid < N ) \n",
        "            dev_c [tid] = dev_a[tid] + dev_b[tid] ;\n",
        "//printf(\"%p \\n\", &N);\n",
        "\n",
        "}\n",
        "\n",
        "\n",
        "int main (void)\n",
        "{\n",
        "\n",
        "      int Host_a[N], Host_b[N], Host_c[N];\n",
        "\n",
        "      int *dev_a , *dev_b, *dev_c ;\n",
        "\n",
        "      HANDLE_ERROR ( cudaMalloc((void **)&dev_a , N*sizeof(int) ) );\n",
        "      HANDLE_ERROR ( cudaMalloc((void **)&dev_b , N*sizeof(int) ) );\n",
        "      HANDLE_ERROR ( cudaMalloc((void **)&dev_c , N*sizeof(int) ) );\n",
        "\n",
        "      for ( int i = 0; i <N ; i++ )\n",
        "      {\n",
        "            Host_a[i] = -i ;\n",
        "            Host_b[i] = i*i ; \n",
        "      }\n",
        "\n",
        "      HANDLE_ERROR (cudaMemcpy (dev_a , Host_a , N*sizeof(int) , cudaMemcpyHostToDevice));\n",
        "      HANDLE_ERROR (cudaMemcpy (dev_b , Host_b , N*sizeof(int) , cudaMemcpyHostToDevice));\n",
        "\n",
        "      Vector_Addition <<< 1, N  >>> (dev_a , dev_b , dev_c ) ;\n",
        "\n",
        "      HANDLE_ERROR (cudaMemcpy(Host_c , dev_c , N*sizeof(int) , cudaMemcpyDeviceToHost));\n",
        "\n",
        "      for ( int i = 0; i<N; i++ )\n",
        "      printf (\"%d + %d = %d\\n\", Host_a[i] , Host_b[i] , Host_c[i] ) ;\n",
        "\n",
        "      cudaFree (dev_a) ;\n",
        "      cudaFree (dev_b) ;\n",
        "      cudaFree (dev_c) ;\n",
        "printf(\"%p \\n\", &N);\n",
        "\n",
        "      return 0 ;\n",
        "\n",
        "}\n"
      ],
      "execution_count": null,
      "outputs": [
        {
          "output_type": "stream",
          "text": [
            "0 + 0 = 0\n",
            "-1 + 1 = 0\n",
            "-2 + 4 = 2\n",
            "-3 + 9 = 6\n",
            "-4 + 16 = 12\n",
            "-5 + 25 = 20\n",
            "-6 + 36 = 30\n",
            "-7 + 49 = 42\n",
            "-8 + 64 = 56\n",
            "-9 + 81 = 72\n",
            "0x55a450f7803e \n",
            "\n"
          ],
          "name": "stdout"
        }
      ]
    },
    {
      "cell_type": "markdown",
      "metadata": {
        "id": "wt3K5P2IVD3Z"
      },
      "source": [
        "**Adding two vectors using multiple blocks**"
      ]
    },
    {
      "cell_type": "code",
      "metadata": {
        "colab": {
          "base_uri": "https://localhost:8080/"
        },
        "id": "cPGYkQR-VDKN",
        "outputId": "380bb347-07fa-4554-d380-37e1d65d880c"
      },
      "source": [
        "%%cu\n",
        "/**\n",
        " * Copyright 1993-2012 NVIDIA Corporation.  All rights reserved.\n",
        " *\n",
        " * Please refer to the NVIDIA end user license agreement (EULA) associated\n",
        " * with this source code for terms and conditions that govern your use of\n",
        " * this software. Any use, reproduction, disclosure, or distribution of\n",
        " * this software and related documentation outside the terms of the EULA\n",
        " * is strictly prohibited.\n",
        " *\n",
        " */\n",
        "\n",
        "/**\n",
        " * Vector addition: C = A + B.\n",
        " *\n",
        " * This sample is a very basic sample that implements element by element\n",
        " * vector addition. It is the same as the sample illustrating Chapter 2\n",
        " * of the programming guide with some additions like error checking.\n",
        " */\n",
        "\n",
        "#include <stdio.h>\n",
        "\n",
        "// For the CUDA runtime routines (prefixed with \"cuda_\")\n",
        "#include <cuda_runtime.h>\n",
        "\n",
        "/**\n",
        " * CUDA Kernel Device code\n",
        " *\n",
        " * Computes the vector addition of A and B into C. The 3 vectors have the same\n",
        " * number of elements numElements.\n",
        " */\n",
        "__global__ void\n",
        "vectorAdd(const float *A, const float *B, float *C, int numElements)\n",
        "{\n",
        "    int i = blockDim.x * blockIdx.x + threadIdx.x;\n",
        "\n",
        "    if (i < numElements)\n",
        "    {\n",
        "        C[i] = A[i] + B[i];\n",
        "    }\n",
        "}\n",
        "\n",
        "/**\n",
        " * Host main routine\n",
        " */\n",
        "int\n",
        "main(void)\n",
        "{\n",
        "    // Error code to check return values for CUDA calls\n",
        "    cudaError_t err = cudaSuccess;\n",
        "\n",
        "    // Print the vector length to be used, and compute its size\n",
        "    int numElements = 50000;\n",
        "    size_t size = numElements * sizeof(float);\n",
        "    printf(\"[Vector addition of %d elements]\\n\", numElements);\n",
        "\n",
        "    // Allocate the host input vector A\n",
        "    float *h_A = (float *)malloc(size);\n",
        "\n",
        "    // Allocate the host input vector B\n",
        "    float *h_B = (float *)malloc(size);\n",
        "\n",
        "    // Allocate the host output vector C\n",
        "    float *h_C = (float *)malloc(size);\n",
        "\n",
        "    // Verify that allocations succeeded\n",
        "    if (h_A == NULL || h_B == NULL || h_C == NULL)\n",
        "    {\n",
        "        fprintf(stderr, \"Failed to allocate host vectors!\\n\");\n",
        "        exit(EXIT_FAILURE);\n",
        "    }\n",
        "\n",
        "    // Initialize the host input vectors\n",
        "    for (int i = 0; i < numElements; ++i)\n",
        "    {\n",
        "        h_A[i] = rand()/(float)RAND_MAX;\n",
        "        h_B[i] = rand()/(float)RAND_MAX;\n",
        "    }\n",
        "\n",
        "    // Allocate the device input vector A\n",
        "    float *d_A = NULL;\n",
        "    err = cudaMalloc((void **)&d_A, size);\n",
        "\n",
        "    if (err != cudaSuccess)\n",
        "    {\n",
        "        fprintf(stderr, \"Failed to allocate device vector A (error code %s)!\\n\", cudaGetErrorString(err));\n",
        "        exit(EXIT_FAILURE);\n",
        "    }\n",
        "\n",
        "    // Allocate the device input vector B\n",
        "    float *d_B = NULL;\n",
        "    err = cudaMalloc((void **)&d_B, size);\n",
        "\n",
        "    if (err != cudaSuccess)\n",
        "    {\n",
        "        fprintf(stderr, \"Failed to allocate device vector B (error code %s)!\\n\", cudaGetErrorString(err));\n",
        "        exit(EXIT_FAILURE);\n",
        "    }\n",
        "\n",
        "    // Allocate the device output vector C\n",
        "    float *d_C = NULL;\n",
        "    err = cudaMalloc((void **)&d_C, size);\n",
        "\n",
        "    if (err != cudaSuccess)\n",
        "    {\n",
        "        fprintf(stderr, \"Failed to allocate device vector C (error code %s)!\\n\", cudaGetErrorString(err));\n",
        "        exit(EXIT_FAILURE);\n",
        "    }\n",
        "\n",
        "    // Copy the host input vectors A and B in host memory to the device input vectors in\n",
        "    // device memory\n",
        "    printf(\"Copy input data from the host memory to the CUDA device\\n\");\n",
        "    err = cudaMemcpy(d_A, h_A, size, cudaMemcpyHostToDevice);\n",
        "\n",
        "    if (err != cudaSuccess)\n",
        "    {\n",
        "        fprintf(stderr, \"Failed to copy vector A from host to device (error code %s)!\\n\", cudaGetErrorString(err));\n",
        "        exit(EXIT_FAILURE);\n",
        "    }\n",
        "\n",
        "    err = cudaMemcpy(d_B, h_B, size, cudaMemcpyHostToDevice);\n",
        "\n",
        "    if (err != cudaSuccess)\n",
        "    {\n",
        "        fprintf(stderr, \"Failed to copy vector B from host to device (error code %s)!\\n\", cudaGetErrorString(err));\n",
        "        exit(EXIT_FAILURE);\n",
        "    }\n",
        "\n",
        "    // Launch the Vector Add CUDA Kernel\n",
        "    int threadsPerBlock = 256;\n",
        "    int blocksPerGrid =(numElements + threadsPerBlock - 1) / threadsPerBlock;\n",
        "    printf(\"CUDA kernel launch with %d blocks of %d threads\\n\", blocksPerGrid, threadsPerBlock);\n",
        "    vectorAdd<<<blocksPerGrid, threadsPerBlock>>>(d_A, d_B, d_C, numElements);\n",
        "    err = cudaGetLastError();\n",
        "\n",
        "    if (err != cudaSuccess)\n",
        "    {\n",
        "        fprintf(stderr, \"Failed to launch vectorAdd kernel (error code %s)!\\n\", cudaGetErrorString(err));\n",
        "        exit(EXIT_FAILURE);\n",
        "    }\n",
        "\n",
        "    // Copy the device result vector in device memory to the host result vector\n",
        "    // in host memory.\n",
        "    printf(\"Copy output data from the CUDA device to the host memory\\n\");\n",
        "    err = cudaMemcpy(h_C, d_C, size, cudaMemcpyDeviceToHost);\n",
        "\n",
        "    if (err != cudaSuccess)\n",
        "    {\n",
        "        fprintf(stderr, \"Failed to copy vector C from device to host (error code %s)!\\n\", cudaGetErrorString(err));\n",
        "        exit(EXIT_FAILURE);\n",
        "    }\n",
        "\n",
        "    // Verify that the result vector is correct\n",
        "    for (int i = 0; i < numElements; ++i)\n",
        "    {\n",
        "        if (fabs(h_A[i] + h_B[i] - h_C[i]) > 1e-5)\n",
        "        {\n",
        "            fprintf(stderr, \"Result verification failed at element %d!\\n\", i);\n",
        "            exit(EXIT_FAILURE);\n",
        "        }\n",
        "    }\n",
        "\n",
        "    // Free device global memory\n",
        "    err = cudaFree(d_A);\n",
        "\n",
        "    if (err != cudaSuccess)\n",
        "    {\n",
        "        fprintf(stderr, \"Failed to free device vector A (error code %s)!\\n\", cudaGetErrorString(err));\n",
        "        exit(EXIT_FAILURE);\n",
        "    }\n",
        "    err = cudaFree(d_B);\n",
        "\n",
        "    if (err != cudaSuccess)\n",
        "    {\n",
        "        fprintf(stderr, \"Failed to free device vector B (error code %s)!\\n\", cudaGetErrorString(err));\n",
        "        exit(EXIT_FAILURE);\n",
        "    }\n",
        "    err = cudaFree(d_C);\n",
        "\n",
        "    if (err != cudaSuccess)\n",
        "    {\n",
        "        fprintf(stderr, \"Failed to free device vector C (error code %s)!\\n\", cudaGetErrorString(err));\n",
        "        exit(EXIT_FAILURE);\n",
        "    }\n",
        "\n",
        "    // Free host memory\n",
        "    free(h_A);\n",
        "    free(h_B);\n",
        "    free(h_C);\n",
        "\n",
        "    // Reset the device and exit\n",
        "    err = cudaDeviceReset();\n",
        "\n",
        "    if (err != cudaSuccess)\n",
        "    {\n",
        "        fprintf(stderr, \"Failed to deinitialize the device! error=%s\\n\", cudaGetErrorString(err));\n",
        "        exit(EXIT_FAILURE);\n",
        "    }\n",
        "\n",
        "    printf(\"Done\\n\");\n",
        "    return 0;\n",
        "}\n"
      ],
      "execution_count": null,
      "outputs": [
        {
          "output_type": "stream",
          "text": [
            "[Vector addition of 50000 elements]\n",
            "Copy input data from the host memory to the CUDA device\n",
            "CUDA kernel launch with 196 blocks of 256 threads\n",
            "Copy output data from the CUDA device to the host memory\n",
            "Done\n",
            "\n"
          ],
          "name": "stdout"
        }
      ]
    },
    {
      "cell_type": "markdown",
      "metadata": {
        "id": "FroZ_LvUJx4A"
      },
      "source": [
        "Unified Memory / Identify the mistake"
      ]
    },
    {
      "cell_type": "code",
      "metadata": {
        "colab": {
          "base_uri": "https://localhost:8080/"
        },
        "id": "lRopvVzdJGei",
        "outputId": "36374363-4092-4f58-a0f4-4d5f1ef5d78f"
      },
      "source": [
        "%%cu\n",
        "#include <stdio.h>\n",
        "__managed__  int  x;   // unified memory \n",
        "\n",
        "\n",
        "__global__ void GPU_func( )\n",
        "{\n",
        "   printf(\"GPU sees x = %d\\n\", x);\n",
        "\n",
        "   x = 4444;\n",
        "}\n",
        "\n",
        "int main()\n",
        "{\n",
        "   x = 1234;\n",
        "\n",
        "   GPU_func<<< 1, 1 >>>( );   // Start GPU function\n",
        "\n",
        "   printf(\"CPU sees x = %d\\n\", x);\n",
        "   cudaDeviceSynchronize();   \n",
        "\n",
        "\n",
        "\n",
        "   return 0;\n",
        "}"
      ],
      "execution_count": null,
      "outputs": [
        {
          "output_type": "stream",
          "text": [
            "GPU sees x = 1234\n",
            "CPU sees x = 4444\n",
            "\n"
          ],
          "name": "stdout"
        }
      ]
    },
    {
      "cell_type": "code",
      "metadata": {
        "colab": {
          "base_uri": "https://localhost:8080/"
        },
        "id": "z8z3tZpPB9Gv",
        "outputId": "3305fc9a-5a23-46c3-ae6b-a650f7691985"
      },
      "source": [
        "%%cu\n",
        "#include <stdio.h>\n",
        "\n",
        "\n",
        "\n",
        "\n",
        "const short N = 10 ;\n",
        "\n",
        "__managed__ int a[N], b[N], c[N];\n",
        "\n",
        "__global__ void Vector_Addition ( const int *dev_a , const int *dev_b , int *dev_c)\n",
        "{\n",
        "      //Get the id of thread within a block\n",
        "      unsigned short tid = threadIdx.x ;\n",
        "     \n",
        "     // check the boundry condition for the threads\n",
        "      if ( tid < N ) \n",
        "            c [tid] = a[tid] + b[tid] ;\n",
        "\n",
        "}\n",
        "\n",
        "\n",
        "int main (void)\n",
        "{\n",
        "\n",
        "      for ( int i = 0; i <N ; i++ )\n",
        "      {\n",
        "            a[i] = -i ;\n",
        "            b[i] = i*i ; \n",
        "      }\n",
        "\n",
        "    \n",
        "      Vector_Addition <<< 1, N  >>> (a , b , c ) ;\n",
        "\n",
        "      cudaDeviceSynchronize();\n",
        "\n",
        "      for ( int i = 0; i<N; i++ )\n",
        "      printf (\"%d + %d = %d\\n\", a[i] , b[i] , c[i] ) ;\n",
        "\n",
        "   \n",
        "\n",
        "      return 0 ;\n",
        "\n",
        "}\n"
      ],
      "execution_count": null,
      "outputs": [
        {
          "output_type": "stream",
          "text": [
            "0 + 0 = 0\n",
            "-1 + 1 = 0\n",
            "-2 + 4 = 2\n",
            "-3 + 9 = 6\n",
            "-4 + 16 = 12\n",
            "-5 + 25 = 20\n",
            "-6 + 36 = 30\n",
            "-7 + 49 = 42\n",
            "-8 + 64 = 56\n",
            "-9 + 81 = 72\n",
            "\n"
          ],
          "name": "stdout"
        }
      ]
    },
    {
      "cell_type": "markdown",
      "metadata": {
        "id": "Qu_wDRF4LEyY"
      },
      "source": [
        "Without passing arguments to device"
      ]
    },
    {
      "cell_type": "code",
      "metadata": {
        "colab": {
          "base_uri": "https://localhost:8080/"
        },
        "id": "uJCpTC1jK8u4",
        "outputId": "d2d47ca0-7c6c-40d2-b384-d01242be163f"
      },
      "source": [
        "%%cu\n",
        "#include <stdio.h>\n",
        "\n",
        "\n",
        "\n",
        "\n",
        "const short N = 10 ;\n",
        "\n",
        "__managed__ int a[N], b[N], c[N];\n",
        "\n",
        "__global__ void Vector_Addition ()\n",
        "{\n",
        "      //Get the id of thread within a block\n",
        "      unsigned short tid = threadIdx.x ;\n",
        "     \n",
        "     // check the boundry condition for the threads\n",
        "      if ( tid < N ) \n",
        "            c [tid] = a[tid] + b[tid] ;\n",
        "\n",
        "}\n",
        "\n",
        "\n",
        "int main (void)\n",
        "{\n",
        "\n",
        "      for ( int i = 0; i <N ; i++ )\n",
        "      {\n",
        "            a[i] = -i ;\n",
        "            b[i] = i*i ; \n",
        "      }\n",
        "\n",
        "    \n",
        "      Vector_Addition <<< 1, N  >>> ( ) ;\n",
        "\n",
        "      cudaDeviceSynchronize();\n",
        "\n",
        "      for ( int i = 0; i<N; i++ )\n",
        "      printf (\"%d + %d = %d\\n\", a[i] , b[i] , c[i] ) ;\n",
        "\n",
        "   \n",
        "\n",
        "      return 0 ;\n",
        "\n",
        "}\n"
      ],
      "execution_count": null,
      "outputs": [
        {
          "output_type": "stream",
          "text": [
            "0 + 0 = 0\n",
            "-1 + 1 = 0\n",
            "-2 + 4 = 2\n",
            "-3 + 9 = 6\n",
            "-4 + 16 = 12\n",
            "-5 + 25 = 20\n",
            "-6 + 36 = 30\n",
            "-7 + 49 = 42\n",
            "-8 + 64 = 56\n",
            "-9 + 81 = 72\n",
            "\n"
          ],
          "name": "stdout"
        }
      ]
    }
  ]
}