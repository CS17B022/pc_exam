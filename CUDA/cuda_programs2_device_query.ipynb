{
  "nbformat": 4,
  "nbformat_minor": 0,
  "metadata": {
    "colab": {
      "name": "cuda programs2 device query.ipynb",
      "provenance": []
    },
    "kernelspec": {
      "name": "python3",
      "display_name": "Python 3"
    },
    "accelerator": "GPU"
  },
  "cells": [
    {
      "cell_type": "markdown",
      "metadata": {
        "id": "sn6MituUpzLH"
      },
      "source": [
        "## Device Query"
      ]
    },
    {
      "cell_type": "code",
      "metadata": {
        "id": "zz6ywIx3o-Um",
        "colab": {
          "base_uri": "https://localhost:8080/"
        },
        "outputId": "be867e48-1e81-4ddf-ed81-9070b3e1f13d"
      },
      "source": [
        "%cd /usr/local"
      ],
      "execution_count": null,
      "outputs": [
        {
          "output_type": "stream",
          "text": [
            "/usr/local\n"
          ],
          "name": "stdout"
        }
      ]
    },
    {
      "cell_type": "code",
      "metadata": {
        "id": "P5z-PXTUpJgh",
        "colab": {
          "base_uri": "https://localhost:8080/"
        },
        "outputId": "3544e146-e0b0-42f4-a810-416a8decb45a"
      },
      "source": [
        "!ls"
      ],
      "execution_count": null,
      "outputs": [
        {
          "output_type": "stream",
          "text": [
            "bin\t   cuda-10.1  _gcs_config_ops.so  LICENSE.txt  setup.cfg  xgboost\n",
            "cuda\t   etc\t      include\t\t  man\t       share\n",
            "cuda-10.0  games      lib\t\t  sbin\t       src\n"
          ],
          "name": "stdout"
        }
      ]
    },
    {
      "cell_type": "code",
      "metadata": {
        "id": "fSn8icEapJ8Y",
        "colab": {
          "base_uri": "https://localhost:8080/"
        },
        "outputId": "0193849b-d1ad-4478-f84c-801a2ef1ce82"
      },
      "source": [
        "%cd cuda-10.0"
      ],
      "execution_count": null,
      "outputs": [
        {
          "output_type": "stream",
          "text": [
            "/usr/local/cuda-10.0\n"
          ],
          "name": "stdout"
        }
      ]
    },
    {
      "cell_type": "code",
      "metadata": {
        "id": "CrnBRNf3pNQX",
        "colab": {
          "base_uri": "https://localhost:8080/"
        },
        "outputId": "d9632de6-4638-4eac-ea5f-75eef8e40b4d"
      },
      "source": [
        "!ls"
      ],
      "execution_count": null,
      "outputs": [
        {
          "output_type": "stream",
          "text": [
            "bin\t lib64\t    NsightCompute-1.0  README\ttargets\n",
            "doc\t libnsight  nsightee_plugins   samples\ttools\n",
            "extras\t libnvvp    nvml\t       share\tversion.txt\n",
            "include  LICENSE    nvvm\t       src\n"
          ],
          "name": "stdout"
        }
      ]
    },
    {
      "cell_type": "code",
      "metadata": {
        "id": "T2zbnJbKpN6C",
        "colab": {
          "base_uri": "https://localhost:8080/"
        },
        "outputId": "5e587291-dd95-4987-a851-9a549c9ca5c1"
      },
      "source": [
        "%cd samples"
      ],
      "execution_count": null,
      "outputs": [
        {
          "output_type": "stream",
          "text": [
            "/usr/local/cuda-10.0/samples\n"
          ],
          "name": "stdout"
        }
      ]
    },
    {
      "cell_type": "code",
      "metadata": {
        "id": "vT2Jae9spP43",
        "colab": {
          "base_uri": "https://localhost:8080/"
        },
        "outputId": "55586c69-df88-490c-a7e9-c76bfb0c819f"
      },
      "source": [
        "!ls"
      ],
      "execution_count": null,
      "outputs": [
        {
          "output_type": "stream",
          "text": [
            "0_Simple     2_Graphics  4_Finance\t6_Advanced\t common    Makefile\n",
            "1_Utilities  3_Imaging\t 5_Simulations\t7_CUDALibraries  EULA.txt\n"
          ],
          "name": "stdout"
        }
      ]
    },
    {
      "cell_type": "code",
      "metadata": {
        "id": "OeFVstEipQlH",
        "colab": {
          "base_uri": "https://localhost:8080/"
        },
        "outputId": "416696ba-81f2-4865-89d3-5c10834426eb"
      },
      "source": [
        "%cd 1_Utilities"
      ],
      "execution_count": null,
      "outputs": [
        {
          "output_type": "stream",
          "text": [
            "/usr/local/cuda-10.0/samples/1_Utilities\n"
          ],
          "name": "stdout"
        }
      ]
    },
    {
      "cell_type": "code",
      "metadata": {
        "id": "aRqzfQKvpSCf",
        "colab": {
          "base_uri": "https://localhost:8080/"
        },
        "outputId": "c982b206-128c-4864-ff23-a594e885c987"
      },
      "source": [
        "!ls"
      ],
      "execution_count": null,
      "outputs": [
        {
          "output_type": "stream",
          "text": [
            "bandwidthTest  deviceQueryDrv\t\ttopologyQuery\n",
            "deviceQuery    p2pBandwidthLatencyTest\tUnifiedMemoryPerf\n"
          ],
          "name": "stdout"
        }
      ]
    },
    {
      "cell_type": "code",
      "metadata": {
        "id": "2oAW-NqSpWbH",
        "colab": {
          "base_uri": "https://localhost:8080/"
        },
        "outputId": "ef360327-8849-4dab-e4fe-1655cce2c14f"
      },
      "source": [
        "%cd deviceQuery"
      ],
      "execution_count": null,
      "outputs": [
        {
          "output_type": "stream",
          "text": [
            "/usr/local/cuda-10.0/samples/1_Utilities/deviceQuery\n"
          ],
          "name": "stdout"
        }
      ]
    },
    {
      "cell_type": "code",
      "metadata": {
        "id": "A1ERGh-bpYjf",
        "colab": {
          "base_uri": "https://localhost:8080/"
        },
        "outputId": "f935e45a-f813-4414-bc3b-c9d33a4bbb8b"
      },
      "source": [
        "!ls"
      ],
      "execution_count": null,
      "outputs": [
        {
          "output_type": "stream",
          "text": [
            "deviceQuery.cpp  Makefile  NsightEclipse.xml  readme.txt\n"
          ],
          "name": "stdout"
        }
      ]
    },
    {
      "cell_type": "code",
      "metadata": {
        "id": "MgC5FxRfpZWI",
        "colab": {
          "base_uri": "https://localhost:8080/"
        },
        "outputId": "5cfbef84-16b6-477b-b5cb-fa0aecd95602"
      },
      "source": [
        "!make"
      ],
      "execution_count": null,
      "outputs": [
        {
          "output_type": "stream",
          "text": [
            "/usr/local/cuda-10.0/bin/nvcc -ccbin g++ -I../../common/inc  -m64    -gencode arch=compute_30,code=sm_30 -gencode arch=compute_35,code=sm_35 -gencode arch=compute_37,code=sm_37 -gencode arch=compute_50,code=sm_50 -gencode arch=compute_52,code=sm_52 -gencode arch=compute_60,code=sm_60 -gencode arch=compute_61,code=sm_61 -gencode arch=compute_70,code=sm_70 -gencode arch=compute_75,code=sm_75 -gencode arch=compute_75,code=compute_75 -o deviceQuery.o -c deviceQuery.cpp\n",
            "/usr/local/cuda-10.0/bin/nvcc -ccbin g++   -m64      -gencode arch=compute_30,code=sm_30 -gencode arch=compute_35,code=sm_35 -gencode arch=compute_37,code=sm_37 -gencode arch=compute_50,code=sm_50 -gencode arch=compute_52,code=sm_52 -gencode arch=compute_60,code=sm_60 -gencode arch=compute_61,code=sm_61 -gencode arch=compute_70,code=sm_70 -gencode arch=compute_75,code=sm_75 -gencode arch=compute_75,code=compute_75 -o deviceQuery deviceQuery.o \n",
            "mkdir -p ../../bin/x86_64/linux/release\n",
            "cp deviceQuery ../../bin/x86_64/linux/release\n"
          ],
          "name": "stdout"
        }
      ]
    },
    {
      "cell_type": "code",
      "metadata": {
        "id": "eYnncOvXpabH",
        "colab": {
          "base_uri": "https://localhost:8080/"
        },
        "outputId": "aaa95cc9-2bc7-4e78-93af-9c8b4b69ae14"
      },
      "source": [
        "!./deviceQuery"
      ],
      "execution_count": null,
      "outputs": [
        {
          "output_type": "stream",
          "text": [
            "./deviceQuery Starting...\n",
            "\n",
            " CUDA Device Query (Runtime API) version (CUDART static linking)\n",
            "\n",
            "Detected 1 CUDA Capable device(s)\n",
            "\n",
            "Device 0: \"Tesla T4\"\n",
            "  CUDA Driver Version / Runtime Version          10.1 / 10.0\n",
            "  CUDA Capability Major/Minor version number:    7.5\n",
            "  Total amount of global memory:                 15080 MBytes (15812263936 bytes)\n",
            "  (40) Multiprocessors, ( 64) CUDA Cores/MP:     2560 CUDA Cores\n",
            "  GPU Max Clock rate:                            1590 MHz (1.59 GHz)\n",
            "  Memory Clock rate:                             5001 Mhz\n",
            "  Memory Bus Width:                              256-bit\n",
            "  L2 Cache Size:                                 4194304 bytes\n",
            "  Maximum Texture Dimension Size (x,y,z)         1D=(131072), 2D=(131072, 65536), 3D=(16384, 16384, 16384)\n",
            "  Maximum Layered 1D Texture Size, (num) layers  1D=(32768), 2048 layers\n",
            "  Maximum Layered 2D Texture Size, (num) layers  2D=(32768, 32768), 2048 layers\n",
            "  Total amount of constant memory:               65536 bytes\n",
            "  Total amount of shared memory per block:       49152 bytes\n",
            "  Total number of registers available per block: 65536\n",
            "  Warp size:                                     32\n",
            "  Maximum number of threads per multiprocessor:  1024\n",
            "  Maximum number of threads per block:           1024\n",
            "  Max dimension size of a thread block (x,y,z): (1024, 1024, 64)\n",
            "  Max dimension size of a grid size    (x,y,z): (2147483647, 65535, 65535)\n",
            "  Maximum memory pitch:                          2147483647 bytes\n",
            "  Texture alignment:                             512 bytes\n",
            "  Concurrent copy and kernel execution:          Yes with 3 copy engine(s)\n",
            "  Run time limit on kernels:                     No\n",
            "  Integrated GPU sharing Host Memory:            No\n",
            "  Support host page-locked memory mapping:       Yes\n",
            "  Alignment requirement for Surfaces:            Yes\n",
            "  Device has ECC support:                        Enabled\n",
            "  Device supports Unified Addressing (UVA):      Yes\n",
            "  Device supports Compute Preemption:            Yes\n",
            "  Supports Cooperative Kernel Launch:            Yes\n",
            "  Supports MultiDevice Co-op Kernel Launch:      Yes\n",
            "  Device PCI Domain ID / Bus ID / location ID:   0 / 0 / 4\n",
            "  Compute Mode:\n",
            "     < Default (multiple host threads can use ::cudaSetDevice() with device simultaneously) >\n",
            "\n",
            "deviceQuery, CUDA Driver = CUDART, CUDA Driver Version = 10.1, CUDA Runtime Version = 10.0, NumDevs = 1\n",
            "Result = PASS\n"
          ],
          "name": "stdout"
        }
      ]
    },
    {
      "cell_type": "markdown",
      "metadata": {
        "id": "Ti9g0cZMp4jY"
      },
      "source": [
        "## Bandwidth Test"
      ]
    },
    {
      "cell_type": "code",
      "metadata": {
        "id": "-ZDLNjdZpcZ_",
        "colab": {
          "base_uri": "https://localhost:8080/"
        },
        "outputId": "3cf11d9a-4535-4a92-d412-7d5eb50cda0d"
      },
      "source": [
        "%cd /usr/local/cuda-10.0"
      ],
      "execution_count": null,
      "outputs": [
        {
          "output_type": "stream",
          "text": [
            "/usr/local/cuda-10.0\n"
          ],
          "name": "stdout"
        }
      ]
    },
    {
      "cell_type": "code",
      "metadata": {
        "id": "IlxH8K7WpfY_",
        "colab": {
          "base_uri": "https://localhost:8080/"
        },
        "outputId": "1b7ecd0f-1438-4187-db77-70919de14e1c"
      },
      "source": [
        "%cd samples"
      ],
      "execution_count": null,
      "outputs": [
        {
          "output_type": "stream",
          "text": [
            "/usr/local/cuda-10.0/samples\n"
          ],
          "name": "stdout"
        }
      ]
    },
    {
      "cell_type": "code",
      "metadata": {
        "id": "RFYzt1MfplOo",
        "colab": {
          "base_uri": "https://localhost:8080/",
          "height": 53
        },
        "outputId": "b3233261-4bb4-483a-b047-1f837c640ac9"
      },
      "source": [
        "!ls"
      ],
      "execution_count": null,
      "outputs": [
        {
          "output_type": "stream",
          "text": [
            "0_Simple     2_Graphics  4_Finance\t6_Advanced\t bin\t EULA.txt\n",
            "1_Utilities  3_Imaging\t 5_Simulations\t7_CUDALibraries  common  Makefile\n"
          ],
          "name": "stdout"
        }
      ]
    },
    {
      "cell_type": "code",
      "metadata": {
        "id": "W7q1WiDQplpI",
        "colab": {
          "base_uri": "https://localhost:8080/"
        },
        "outputId": "4a0b809d-5e9e-4648-f8de-511d237946f9"
      },
      "source": [
        "%cd 1_Utilities"
      ],
      "execution_count": null,
      "outputs": [
        {
          "output_type": "stream",
          "text": [
            "/usr/local/cuda-10.0/samples/1_Utilities\n"
          ],
          "name": "stdout"
        }
      ]
    },
    {
      "cell_type": "code",
      "metadata": {
        "id": "GeUh0DO8popv",
        "colab": {
          "base_uri": "https://localhost:8080/",
          "height": 53
        },
        "outputId": "27111e17-67c4-4e3f-84f3-496e97040544"
      },
      "source": [
        "!ls"
      ],
      "execution_count": null,
      "outputs": [
        {
          "output_type": "stream",
          "text": [
            "bandwidthTest  deviceQueryDrv\t\ttopologyQuery\n",
            "deviceQuery    p2pBandwidthLatencyTest\tUnifiedMemoryPerf\n"
          ],
          "name": "stdout"
        }
      ]
    },
    {
      "cell_type": "code",
      "metadata": {
        "id": "DW4X1v_ZppNn",
        "colab": {
          "base_uri": "https://localhost:8080/"
        },
        "outputId": "d28cd6fe-0545-4d1d-8a4d-294a6180b6a2"
      },
      "source": [
        "%cd bandwidthTest"
      ],
      "execution_count": null,
      "outputs": [
        {
          "output_type": "stream",
          "text": [
            "/usr/local/cuda-10.0/samples/1_Utilities/bandwidthTest\n"
          ],
          "name": "stdout"
        }
      ]
    },
    {
      "cell_type": "code",
      "metadata": {
        "id": "wQjborwQprlg",
        "colab": {
          "base_uri": "https://localhost:8080/",
          "height": 35
        },
        "outputId": "2b30257d-7d5d-4af8-f6c8-606bdae85305"
      },
      "source": [
        "!ls"
      ],
      "execution_count": null,
      "outputs": [
        {
          "output_type": "stream",
          "text": [
            "bandwidthTest.cu  Makefile  NsightEclipse.xml  readme.txt\n"
          ],
          "name": "stdout"
        }
      ]
    },
    {
      "cell_type": "code",
      "metadata": {
        "id": "ak6adm0wpsKg",
        "colab": {
          "base_uri": "https://localhost:8080/"
        },
        "outputId": "4e1843cb-3ea2-41f8-8f1f-8dfd318308f3"
      },
      "source": [
        "!make"
      ],
      "execution_count": null,
      "outputs": [
        {
          "output_type": "stream",
          "text": [
            "/usr/local/cuda-10.0/bin/nvcc -ccbin g++ -I../../common/inc  -m64    -gencode arch=compute_30,code=sm_30 -gencode arch=compute_35,code=sm_35 -gencode arch=compute_37,code=sm_37 -gencode arch=compute_50,code=sm_50 -gencode arch=compute_52,code=sm_52 -gencode arch=compute_60,code=sm_60 -gencode arch=compute_61,code=sm_61 -gencode arch=compute_70,code=sm_70 -gencode arch=compute_75,code=sm_75 -gencode arch=compute_75,code=compute_75 -o bandwidthTest.o -c bandwidthTest.cu\n",
            "/usr/local/cuda-10.0/bin/nvcc -ccbin g++   -m64      -gencode arch=compute_30,code=sm_30 -gencode arch=compute_35,code=sm_35 -gencode arch=compute_37,code=sm_37 -gencode arch=compute_50,code=sm_50 -gencode arch=compute_52,code=sm_52 -gencode arch=compute_60,code=sm_60 -gencode arch=compute_61,code=sm_61 -gencode arch=compute_70,code=sm_70 -gencode arch=compute_75,code=sm_75 -gencode arch=compute_75,code=compute_75 -o bandwidthTest bandwidthTest.o \n",
            "mkdir -p ../../bin/x86_64/linux/release\n",
            "cp bandwidthTest ../../bin/x86_64/linux/release\n"
          ],
          "name": "stdout"
        }
      ]
    },
    {
      "cell_type": "code",
      "metadata": {
        "id": "xbL3i63kptaX",
        "colab": {
          "base_uri": "https://localhost:8080/"
        },
        "outputId": "cf28202a-76c6-493a-c7de-5b64e84ff2fa"
      },
      "source": [
        "!./bandwidthTest"
      ],
      "execution_count": null,
      "outputs": [
        {
          "output_type": "stream",
          "text": [
            "[CUDA Bandwidth Test] - Starting...\n",
            "Running on...\n",
            "\n",
            " Device 0: Tesla T4\n",
            " Quick Mode\n",
            "\n",
            " Host to Device Bandwidth, 1 Device(s)\n",
            " PINNED Memory Transfers\n",
            "   Transfer Size (Bytes)\tBandwidth(MB/s)\n",
            "   33554432\t\t\t11964.0\n",
            "\n",
            " Device to Host Bandwidth, 1 Device(s)\n",
            " PINNED Memory Transfers\n",
            "   Transfer Size (Bytes)\tBandwidth(MB/s)\n",
            "   33554432\t\t\t12837.4\n",
            "\n",
            " Device to Device Bandwidth, 1 Device(s)\n",
            " PINNED Memory Transfers\n",
            "   Transfer Size (Bytes)\tBandwidth(MB/s)\n",
            "   33554432\t\t\t235311.7\n",
            "\n",
            "Result = PASS\n",
            "\n",
            "NOTE: The CUDA Samples are not meant for performance measurements. Results may vary when GPU Boost is enabled.\n"
          ],
          "name": "stdout"
        }
      ]
    },
    {
      "cell_type": "code",
      "metadata": {
        "id": "yn9-hK0Fpwyf"
      },
      "source": [
        ""
      ],
      "execution_count": null,
      "outputs": []
    }
  ]
}